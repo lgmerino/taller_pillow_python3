{
 "cells": [
  {
   "cell_type": "markdown",
   "metadata": {},
   "source": [
    "# Taller de Python y Pillow\n",
    "\n",
    "Bienvenido/a al taller de Python y Pillow. En este taller vamos a realizar distintos ejercicios con imágenes. Utilizaremos las siguientes herramientas:\n",
    "\n",
    "1. Python 3 como lenguaje de programación,\n",
    "2. la librería para trabajar con imágenes Pillow [https://pillow.readthedocs.io/en/stable/]\n",
    "3. SDK de Mapbox para Python [https://github.com/mapbox/mapbox-sdk-py/]"
   ]
  },
  {
   "cell_type": "code",
   "execution_count": 1,
   "metadata": {},
   "outputs": [],
   "source": [
    "# para ejecutar una celda pulsa Mayúsculas + Intro\n",
    "import os  # importamos librería de llamadas al sistema operativo\n",
    "from io import BytesIO\n",
    "from PIL import Image, ImageFont, ImageDraw, ImageColor, ExifTags\n",
    "from IPython.display import Image as IPython_Image # para mostrar imágenes en el notebook\n",
    "from IPython.core.debugger import set_trace\n",
    "from typing import Dict, List\n",
    "from mapbox import Geocoder, Static\n",
    "\n",
    "\n",
    "def get_files_from_path(path: str) -> List:\n",
    "    \"\"\"\n",
    "    Función para extraer los archivos de un directorio\n",
    "    \n",
    "    :param path: path al directorio\n",
    "    :type path: str\n",
    "    :returns: lista con el nombre de ficheros dentro del directorio\n",
    "    :rtype: list\n",
    "    \"\"\"\n",
    "    for root, dirs, files in os.walk(path):\n",
    "        return files\n",
    "\n",
    "def get_exif_data(path: str) -> Dict:\n",
    "    \"\"\"\n",
    "    Devuelve un diccionario con todos los datos Exif de una imagen\n",
    "    \n",
    "    :param path: path a la imagen\n",
    "    :type path: str\n",
    "    :returns: diccionario con los datos Exif\n",
    "    :rtype: Dict\n",
    "    \"\"\"\n",
    "    \n",
    "    img = Image.open(path)\n",
    "    return {ExifTags.TAGS[k]: v for k, v in img._getexif().items() if k in ExifTags.TAGS}"
   ]
  },
  {
   "cell_type": "markdown",
   "metadata": {},
   "source": [
    "### Ejercicio 1\n",
    "\n",
    "Imprime por pantalla el nombre y el ancho y alto de las imágenes que hay en el directorio ./1/input. "
   ]
  },
  {
   "cell_type": "code",
   "execution_count": null,
   "metadata": {},
   "outputs": [],
   "source": [
    "def print_info(image_path: str):\n",
    "    \"\"\"\n",
    "    Función que imprime por pantalla el path a la imagen, el ancho y el alto (en píxeles) y\n",
    "    después muestra la imagen en el notebook de Jupyter\n",
    "    \n",
    "    :param path: path de la imagen\n",
    "    :type path: str\n",
    "    \"\"\"\n",
    "\n",
    "    img = Image.open(image_path)\n",
    "    message = \"El archivo {path} tiene {width}x{height} píxeles\"\\\n",
    "        .format(path=image_path, width=img.width, height=img.height)\n",
    "    img.close() \n",
    "    print(message)\n",
    "    display(IPython_Image(filename=image_path))\n",
    "\n",
    "input_path = './1/input'\n",
    "files = get_files_from_path(input_path)\n",
    "for file in files:\n",
    "    absolute_path = os.path.join(input_path, file)\n",
    "    print_info(absolute_path)\n",
    "    "
   ]
  },
  {
   "cell_type": "markdown",
   "metadata": {},
   "source": [
    "### Ejercicio 2\n",
    "\n",
    "Crear una imagen de 800x400 con fondo azul. Dibuja en ella un cuadrado verde y un circulo amarillo.\n",
    "\n",
    "Tareas:\n",
    "\n",
    "1. Crea una imagen con Image.new()\n",
    "2. Rellena la imagen de azul con ImageDraw.floodfill(image, coord, color) donde image es la imagen creada en el punto anterior, coord es el punto donde se empezará a rellenar y color es blue \n",
    "3. Crear un objeto para dibujar con ImageDraw.Draw(image) pasándole la imagen creada en el punto 1\n",
    "4. Dibuja un cuadrado verde con ImageDraw.rectangle((x0, y0, x1, y1), fill=green) y un círculo amarillo con ImageDraw.ellipse((x0, y0, x1, y1), fill=yellow)\n",
    "5. Guarda la imagen como PNG en output_path con el método save()"
   ]
  },
  {
   "cell_type": "code",
   "execution_count": null,
   "metadata": {},
   "outputs": [],
   "source": [
    "def create_image(output_path: str):\n",
    "    blue = ImageColor.getrgb(\"blue\")\n",
    "    green = ImageColor.getrgb(\"green\")\n",
    "    yellow = ImageColor.getrgb(\"yellow\")\n",
    "    \n",
    "    # TODO\n",
    "\n",
    "\n",
    "output_path = './2/output/draw.png'\n",
    "create_image(output_path)\n",
    "# display(IPython_Image(filename=output_path))"
   ]
  },
  {
   "cell_type": "markdown",
   "metadata": {},
   "source": [
    "### Ejercicio 3\n",
    "\n",
    "En el ejercicio 1 se pidió que se imprimiese cierta información por pantalla. En el ejercicio 2 se solicita lo mismo, pero en vez de imprimir en pantalla hazlo en una imagen.\n",
    "\n",
    "Tareas:\n",
    "\n",
    "1. Crea una imagen con Image.new como en el ejercicio 2\n",
    "2. Crea una imagen para poder escribir con ImageDraw.Draw como en el ejercicio 2\n",
    "3. Crea un bucle dentro de la función print_files2 que recorra input_path similar al ejercicio 1\n",
    "4. Abre la imagen y genera el mensaje como en el ejercicio 1. \n",
    "5. Puedes escribir toda la información de golpe en la imagen con el método multiline_text (tendrás que poner un salto de línea al final de cada línea) o cada vez que leas una imagen con el método text (tendrás que calcular la posición x, y de cada mensaje para que no se sobreescriban).\n",
    "6. Guarda la imagen generada en output_path"
   ]
  },
  {
   "cell_type": "code",
   "execution_count": null,
   "metadata": {},
   "outputs": [],
   "source": [
    "def print_files2(input_path: str, output_path: str):\n",
    "    message = ''\n",
    "    font = ImageFont.truetype('./fonts/FreeMono.ttf', 14)\n",
    "    red = ImageColor.getrgb(\"red\")\n",
    "    \n",
    "    # TODO\n",
    "\n",
    "\n",
    "input_path = './3/input'\n",
    "output_path = './3/output/message.jpg'\n",
    "print_files2(input_path, output_path)\n",
    "# display(IPython_Image(filename=output_path))"
   ]
  },
  {
   "cell_type": "markdown",
   "metadata": {},
   "source": [
    "### Ejercicio 4\n",
    "\n",
    "Supongamos que tenemos una recopilación de nuestros 9 álbumes musicales preferidos en un único CD o DVD y queremos hacer una carátula con las 9 portadas de los álbumes (3x3). En ./4/input/ tenemos 9 imágenes de portadas de discos (768x768 píxeles). Generar una nueva imagen caratula.jpg en el directorio ./4/output/ con las portadas de los álbumes.\n",
    "\n",
    "Tareas:\n",
    "\n",
    "1. Crea una imagen con Image.new con tamaño IMAGE_WIDTH * 3, IMAGE_HEIGHT * 3\n",
    "2. Recorre input_path, abre cada una de las imágenes y copiala en la imagen que creaste en el punto 1 con el método paste\n",
    "3. Tendrás que calcular la posición en la que tienes que colocar cada una de las portadas. En cada iteración del bucle puedes calcularla o recuperarla de una lista de tuplas donde en cada tupla guardas la posición x e y. En cualquier caso te será útil la función enumerate en el bucle for:\n",
    "\n",
    "~~~~python\n",
    "lista = ['azul', 'verde', 'amarillo']\n",
    "for indice, color in enumerate(lista):\n",
    "    print(\"{}-{}\".format(indice, color))\n",
    "\n",
    "0-azul\n",
    "1-verde\n",
    "2-amarillo\n",
    "~~~~\n",
    "4. Guarda la nueva imagen"
   ]
  },
  {
   "cell_type": "code",
   "execution_count": null,
   "metadata": {},
   "outputs": [],
   "source": [
    "def make_cover(input_path: str, output_path: str):\n",
    "    IMAGE_WIDTH = 768\n",
    "    IMAGE_HEIGHT = 768\n",
    "\n",
    "    # TODO\n",
    "\n",
    "input_path = './4/input'\n",
    "output_path = './4/output/cover.jpg'\n",
    "make_cover(input_path, output_path)\n",
    "# display(IPython_Image(filename=output_path))"
   ]
  },
  {
   "cell_type": "markdown",
   "metadata": {},
   "source": [
    "### Ejercicio 5\n",
    "\n",
    "Las cámaras de fotos digitales añaden metadatos de las imágenes tomadas en el propio archivo de la fotografía. Estos metadatos están en formato Exif [https://es.wikipedia.org/wiki/Exchangeable_image_file_format]. El formato Exif guarda fecha/hora en la que se tomó la foto, apertura y velocidad de obturador, distancia focal, tiempo de exposición, posición GPS (si la cámara o teléfono tiene GPS activo), etc.\n",
    "\n",
    "En este ejercicio deberás leer la información Exif de la imagen que hay en ./5/input/read_exif.jpg con la función get_exif_data (está en la primera celda de código del notebook) e imprimirla por pantalla.\n",
    "\n",
    "Pistas:\n",
    "\n",
    "Puedes ver las claves de un diccionario con el método keys:\n",
    "\n",
    "```python\n",
    "mi_diccionario = {'a': 1, 'b': 2, 'c': 3}\n",
    "mi_diccionario['a']  # devuelve 1\n",
    "mi_diccionario.keys()  # devuelve las claves del diccionario\n",
    "mi_diccionario.values()  # devuelve los valores del diccionario\n",
    "mi_diccionario.items()  # devuelve los pares clave/valor\n",
    "```\n"
   ]
  },
  {
   "cell_type": "code",
   "execution_count": null,
   "metadata": {},
   "outputs": [],
   "source": [
    "input_path = './5/input/read_exif.jpg'\n",
    "exif = get_exif_data(input_path)\n",
    "\n",
    "# TODO\n"
   ]
  },
  {
   "cell_type": "markdown",
   "metadata": {},
   "source": [
    "## Ejercicio 6\n",
    "\n",
    "Para cada imagen en ./6/input/ lee la longitud y la latitud de los datos Exif. Con las coordenadas obtén la imagen del mapa correspondiente llamando a la función get_map. Añade el mapa a la imagen original y guarda el resultado en ./6/output/.\n",
    "\n",
    "https://developer.mapquest.com/plan_purchase/steps/business_edition/business_edition_free/register"
   ]
  },
  {
   "cell_type": "code",
   "execution_count": null,
   "metadata": {},
   "outputs": [],
   "source": [
    "# token: https://developer.mapquest.com/plan_purchase/steps/business_edition/business_edition_free/register\n",
    "TOKEN = \"\"\n",
    "\n",
    "def get_location_map(longitude: str, latitude: str, width: int=200, height: int=200, zoom: int=14) -> BytesIO:\n",
    "    service = Static(access_token=TOKEN)\n",
    "    response = service.image('mapbox.streets',lon=longitude, lat=latitude, width=width, height=height, z=zoom)\n",
    "    return BytesIO(response.content)\n",
    "\n",
    "def get_location_name(longitude: str, latitude: str) -> str:\n",
    "    geocoder = Geocoder(access_token=TOKEN, name='mapbox.places')\n",
    "    response = geocoder.reverse(lon=-73.989, lat=40.733, limit=1, types=['place'])\n",
    "    return response.geojson()['features'][0]['text']\n",
    "\n",
    "def get_coordinates(exif_data: Dict) -> Dict:\n",
    "    gps_info = exif_data['GPSInfo']\n",
    "\n",
    "    degrees = int(gps_info[2][0][0]/gps_info[2][0][1])\n",
    "    minutes = gps_info[2][1][0]/gps_info[2][1][1]\n",
    "    seconds = gps_info[2][2][0]/gps_info[2][2][1]\n",
    "    latitude = degrees + (minutes/60) + (seconds/3600)\n",
    "    if gps_info[1] == 'S':\n",
    "        latitude = -latitude\n",
    "\n",
    "    degrees = int(gps_info[4][0][0]/gps_info[4][0][1])\n",
    "    minutes = gps_info[4][1][0]/gps_info[4][1][1]\n",
    "    seconds = gps_info[4][2][0]/gps_info[4][2][1]\n",
    "    longitude = degrees + (minutes/60) + (seconds/3600)\n",
    "    if gps_info[3] == 'W':\n",
    "        longitude = -longitude\n",
    "\n",
    "    return dict({\"longitude\": longitude, \"latitude\": latitude})\n",
    "    \n",
    "def add_map_to_image(input_path: str, output_path: str):\n",
    "    MAP_WIDTH = 180\n",
    "    MAP_HEIGHT = 180\n",
    "\n",
    "    black = ImageColor.getrgb(\"black\")\n",
    "    font = ImageFont.truetype('./fonts/FreeMono.ttf', 14)\n",
    "    \n",
    "    # TODO\n",
    "\n",
    "input_path = './6/input/'\n",
    "output_path = './6/output/'\n",
    "\n",
    "files = get_files_from_path(input_path)\n",
    "for file in files:\n",
    "    output_path_file = os.path.join(output_path, file)\n",
    "    add_map_to_image(os.path.join(input_path, file), output_path_file)\n",
    "    display(IPython_Image(filename=output_path_file))"
   ]
  },
  {
   "cell_type": "code",
   "execution_count": null,
   "metadata": {},
   "outputs": [],
   "source": []
  }
 ],
 "metadata": {
  "kernelspec": {
   "display_name": "Python 3",
   "language": "python",
   "name": "python3"
  },
  "language_info": {
   "codemirror_mode": {
    "name": "ipython",
    "version": 3
   },
   "file_extension": ".py",
   "mimetype": "text/x-python",
   "name": "python",
   "nbconvert_exporter": "python",
   "pygments_lexer": "ipython3",
   "version": "3.5.2"
  }
 },
 "nbformat": 4,
 "nbformat_minor": 2
}
